{
 "cells": [
  {
   "cell_type": "code",
   "execution_count": 133,
   "metadata": {
    "collapsed": true
   },
   "outputs": [
    {
     "name": "stderr",
     "output_type": "stream",
     "text": [
      "/tmp/ipykernel_6586/4044319088.py:3: DtypeWarning: Columns (76,77) have mixed types. Specify dtype option on import or set low_memory=False.\n",
      "  Assist_2017 = pd.read_csv('./assist-2017.csv')\n"
     ]
    }
   ],
   "source": [
    "import pandas as pd\n",
    "\n",
    "Assist_2017 = pd.read_csv('./assist-2017.csv')"
   ]
  },
  {
   "cell_type": "code",
   "execution_count": 2,
   "outputs": [
    {
     "data": {
      "text/plain": "           studentId  MiddleSchoolId        AveKnow  AveCarelessness  \\\ncount  942816.000000   942816.000000  942816.000000    942816.000000   \nmean     3844.844105        2.515472       0.195155         0.109436   \nstd      2250.484065        1.039785       0.116451         0.059952   \nmin         8.000000        1.000000       0.028057         0.007801   \n25%      1952.000000        2.000000       0.110542         0.068760   \n50%      3766.000000        2.000000       0.159285         0.094513   \n75%      5781.000000        4.000000       0.247704         0.137316   \nmax      7783.000000        4.000000       0.752498         0.430576   \n\n          AveCorrect     NumActions    AveResBored   AveResEngcon  \\\ncount  942816.000000  942816.000000  942816.000000  942816.000000   \nmean        0.372681     869.850594       0.232949       0.658442   \nstd         0.107367     530.210725       0.030637       0.027440   \nmin         0.000000       2.000000       0.170871       0.403309   \n25%         0.294989     478.000000       0.209035       0.642060   \n50%         0.345575     754.000000       0.230394       0.660669   \n75%         0.428822    1151.000000       0.252082       0.676588   \nmax         0.932990    3057.000000       0.440870       0.723990   \n\n          AveResConf    AveResFrust  ...      RES_BORED  RES_CONCENTRATING  \\\ncount  942816.000000  942816.000000  ...  942816.000000       9.428160e+05   \nmean        0.098940       0.131406  ...       0.232949       6.584415e-01   \nstd         0.034788       0.038875  ...       0.116371       1.734275e-01   \nmin         0.005075       0.000000  ...       0.156027       8.890000e-07   \n25%         0.076385       0.107278  ...       0.156027       5.117519e-01   \n50%         0.096357       0.127504  ...       0.156027       7.115475e-01   \n75%         0.119282       0.150582  ...       0.376427       7.726099e-01   \nmax         0.402483       0.543463  ...       0.505313       1.000000e+00   \n\n        RES_CONFUSED  RES_FRUSTRATED    RES_OFFTASK     RES_GAMING  \\\ncount  942816.000000   942816.000000  942816.000000  942816.000000   \nmean        0.098940        0.131406       0.172212       0.192703   \nstd         0.249505        0.300351       0.216997       0.340232   \nmin         0.000000        0.000000       0.000000       0.000001   \n25%         0.000000        0.000000       0.048295       0.001483   \n50%         0.000000        0.000000       0.122595       0.005797   \n75%         0.000000        0.009561       0.122595       0.259648   \nmax         1.000000        1.000000       1.000000       0.999377   \n\n                MCAS       Enrolled      Selective         isSTEM  \ncount  942816.000000  942816.000000  942816.000000  316974.000000  \nmean      -95.982302       0.641147       0.300434       0.204178  \nstd       332.827628       0.479664       0.458447       0.403100  \nmin      -999.000000       0.000000       0.000000       0.000000  \n25%        14.000000       0.000000       0.000000       0.000000  \n50%        23.000000       1.000000       0.000000       0.000000  \n75%        34.000000       1.000000       1.000000       0.000000  \nmax        54.000000       1.000000       1.000000       1.000000  \n\n[8 rows x 76 columns]",
      "text/html": "<div>\n<style scoped>\n    .dataframe tbody tr th:only-of-type {\n        vertical-align: middle;\n    }\n\n    .dataframe tbody tr th {\n        vertical-align: top;\n    }\n\n    .dataframe thead th {\n        text-align: right;\n    }\n</style>\n<table border=\"1\" class=\"dataframe\">\n  <thead>\n    <tr style=\"text-align: right;\">\n      <th></th>\n      <th>studentId</th>\n      <th>MiddleSchoolId</th>\n      <th>AveKnow</th>\n      <th>AveCarelessness</th>\n      <th>AveCorrect</th>\n      <th>NumActions</th>\n      <th>AveResBored</th>\n      <th>AveResEngcon</th>\n      <th>AveResConf</th>\n      <th>AveResFrust</th>\n      <th>...</th>\n      <th>RES_BORED</th>\n      <th>RES_CONCENTRATING</th>\n      <th>RES_CONFUSED</th>\n      <th>RES_FRUSTRATED</th>\n      <th>RES_OFFTASK</th>\n      <th>RES_GAMING</th>\n      <th>MCAS</th>\n      <th>Enrolled</th>\n      <th>Selective</th>\n      <th>isSTEM</th>\n    </tr>\n  </thead>\n  <tbody>\n    <tr>\n      <th>count</th>\n      <td>942816.000000</td>\n      <td>942816.000000</td>\n      <td>942816.000000</td>\n      <td>942816.000000</td>\n      <td>942816.000000</td>\n      <td>942816.000000</td>\n      <td>942816.000000</td>\n      <td>942816.000000</td>\n      <td>942816.000000</td>\n      <td>942816.000000</td>\n      <td>...</td>\n      <td>942816.000000</td>\n      <td>9.428160e+05</td>\n      <td>942816.000000</td>\n      <td>942816.000000</td>\n      <td>942816.000000</td>\n      <td>942816.000000</td>\n      <td>942816.000000</td>\n      <td>942816.000000</td>\n      <td>942816.000000</td>\n      <td>316974.000000</td>\n    </tr>\n    <tr>\n      <th>mean</th>\n      <td>3844.844105</td>\n      <td>2.515472</td>\n      <td>0.195155</td>\n      <td>0.109436</td>\n      <td>0.372681</td>\n      <td>869.850594</td>\n      <td>0.232949</td>\n      <td>0.658442</td>\n      <td>0.098940</td>\n      <td>0.131406</td>\n      <td>...</td>\n      <td>0.232949</td>\n      <td>6.584415e-01</td>\n      <td>0.098940</td>\n      <td>0.131406</td>\n      <td>0.172212</td>\n      <td>0.192703</td>\n      <td>-95.982302</td>\n      <td>0.641147</td>\n      <td>0.300434</td>\n      <td>0.204178</td>\n    </tr>\n    <tr>\n      <th>std</th>\n      <td>2250.484065</td>\n      <td>1.039785</td>\n      <td>0.116451</td>\n      <td>0.059952</td>\n      <td>0.107367</td>\n      <td>530.210725</td>\n      <td>0.030637</td>\n      <td>0.027440</td>\n      <td>0.034788</td>\n      <td>0.038875</td>\n      <td>...</td>\n      <td>0.116371</td>\n      <td>1.734275e-01</td>\n      <td>0.249505</td>\n      <td>0.300351</td>\n      <td>0.216997</td>\n      <td>0.340232</td>\n      <td>332.827628</td>\n      <td>0.479664</td>\n      <td>0.458447</td>\n      <td>0.403100</td>\n    </tr>\n    <tr>\n      <th>min</th>\n      <td>8.000000</td>\n      <td>1.000000</td>\n      <td>0.028057</td>\n      <td>0.007801</td>\n      <td>0.000000</td>\n      <td>2.000000</td>\n      <td>0.170871</td>\n      <td>0.403309</td>\n      <td>0.005075</td>\n      <td>0.000000</td>\n      <td>...</td>\n      <td>0.156027</td>\n      <td>8.890000e-07</td>\n      <td>0.000000</td>\n      <td>0.000000</td>\n      <td>0.000000</td>\n      <td>0.000001</td>\n      <td>-999.000000</td>\n      <td>0.000000</td>\n      <td>0.000000</td>\n      <td>0.000000</td>\n    </tr>\n    <tr>\n      <th>25%</th>\n      <td>1952.000000</td>\n      <td>2.000000</td>\n      <td>0.110542</td>\n      <td>0.068760</td>\n      <td>0.294989</td>\n      <td>478.000000</td>\n      <td>0.209035</td>\n      <td>0.642060</td>\n      <td>0.076385</td>\n      <td>0.107278</td>\n      <td>...</td>\n      <td>0.156027</td>\n      <td>5.117519e-01</td>\n      <td>0.000000</td>\n      <td>0.000000</td>\n      <td>0.048295</td>\n      <td>0.001483</td>\n      <td>14.000000</td>\n      <td>0.000000</td>\n      <td>0.000000</td>\n      <td>0.000000</td>\n    </tr>\n    <tr>\n      <th>50%</th>\n      <td>3766.000000</td>\n      <td>2.000000</td>\n      <td>0.159285</td>\n      <td>0.094513</td>\n      <td>0.345575</td>\n      <td>754.000000</td>\n      <td>0.230394</td>\n      <td>0.660669</td>\n      <td>0.096357</td>\n      <td>0.127504</td>\n      <td>...</td>\n      <td>0.156027</td>\n      <td>7.115475e-01</td>\n      <td>0.000000</td>\n      <td>0.000000</td>\n      <td>0.122595</td>\n      <td>0.005797</td>\n      <td>23.000000</td>\n      <td>1.000000</td>\n      <td>0.000000</td>\n      <td>0.000000</td>\n    </tr>\n    <tr>\n      <th>75%</th>\n      <td>5781.000000</td>\n      <td>4.000000</td>\n      <td>0.247704</td>\n      <td>0.137316</td>\n      <td>0.428822</td>\n      <td>1151.000000</td>\n      <td>0.252082</td>\n      <td>0.676588</td>\n      <td>0.119282</td>\n      <td>0.150582</td>\n      <td>...</td>\n      <td>0.376427</td>\n      <td>7.726099e-01</td>\n      <td>0.000000</td>\n      <td>0.009561</td>\n      <td>0.122595</td>\n      <td>0.259648</td>\n      <td>34.000000</td>\n      <td>1.000000</td>\n      <td>1.000000</td>\n      <td>0.000000</td>\n    </tr>\n    <tr>\n      <th>max</th>\n      <td>7783.000000</td>\n      <td>4.000000</td>\n      <td>0.752498</td>\n      <td>0.430576</td>\n      <td>0.932990</td>\n      <td>3057.000000</td>\n      <td>0.440870</td>\n      <td>0.723990</td>\n      <td>0.402483</td>\n      <td>0.543463</td>\n      <td>...</td>\n      <td>0.505313</td>\n      <td>1.000000e+00</td>\n      <td>1.000000</td>\n      <td>1.000000</td>\n      <td>1.000000</td>\n      <td>0.999377</td>\n      <td>54.000000</td>\n      <td>1.000000</td>\n      <td>1.000000</td>\n      <td>1.000000</td>\n    </tr>\n  </tbody>\n</table>\n<p>8 rows × 76 columns</p>\n</div>"
     },
     "execution_count": 2,
     "metadata": {},
     "output_type": "execute_result"
    }
   ],
   "source": [
    "Assist_2017.describe()"
   ],
   "metadata": {
    "collapsed": false
   }
  },
  {
   "cell_type": "code",
   "execution_count": 4,
   "outputs": [
    {
     "data": {
      "text/plain": "Index(['studentId', 'MiddleSchoolId', 'InferredGender', 'SY ASSISTments Usage',\n       'AveKnow', 'AveCarelessness', 'AveCorrect', 'NumActions', 'AveResBored',\n       'AveResEngcon', 'AveResConf', 'AveResFrust', 'AveResOfftask',\n       'AveResGaming', 'action_num', 'skill', 'problemId', 'problemType',\n       'assignmentId', 'assistmentId', 'startTime', 'endTime', 'timeTaken',\n       'correct', 'original', 'hint', 'hintCount', 'hintTotal', 'scaffold',\n       'bottomHint', 'attemptCount', 'frIsHelpRequest', 'frPast5HelpRequest',\n       'frPast8HelpRequest', 'stlHintUsed', 'past8BottomOut',\n       'totalFrPercentPastWrong', 'totalFrPastWrongCount', 'frPast5WrongCount',\n       'frPast8WrongCount', 'totalFrTimeOnSkill', 'timeSinceSkill',\n       'frWorkingInSchool', 'totalFrAttempted', 'totalFrSkillOpportunities',\n       'responseIsFillIn', 'responseIsChosen', 'endsWithScaffolding',\n       'endsWithAutoScaffolding', 'frTimeTakenOnScaffolding',\n       'frTotalSkillOpportunitiesScaffolding',\n       'totalFrSkillOpportunitiesByScaffolding', 'frIsHelpRequestScaffolding',\n       'timeGreater5Secprev2wrong', 'sumRight', 'helpAccessUnder2Sec',\n       'timeGreater10SecAndNextActionRight', 'consecutiveErrorsInRow',\n       'sumTime3SDWhen3RowRight', 'sumTimePerSkill',\n       'totalTimeByPercentCorrectForskill', 'Prev5count', 'timeOver80',\n       'manywrong', 'confidence(BORED)', 'confidence(CONCENTRATING)',\n       'confidence(CONFUSED)', 'confidence(FRUSTRATED)',\n       'confidence(OFF TASK)', 'confidence(GAMING)', 'RES_BORED',\n       'RES_CONCENTRATING', 'RES_CONFUSED', 'RES_FRUSTRATED', 'RES_OFFTASK',\n       'RES_GAMING', 'Ln-1', 'Ln', 'MCAS', 'Enrolled', 'Selective', 'isSTEM'],\n      dtype='object')"
     },
     "execution_count": 4,
     "metadata": {},
     "output_type": "execute_result"
    }
   ],
   "source": [
    "Assist_2017.columns"
   ],
   "metadata": {
    "collapsed": false
   }
  },
  {
   "cell_type": "code",
   "execution_count": 32,
   "outputs": [
    {
     "data": {
      "text/plain": "0         0\n1         1\n2         0\n3         0\n4         1\n         ..\n942811    1\n942812    0\n942813    0\n942814    1\n942815    1\nName: correct, Length: 942816, dtype: int64"
     },
     "execution_count": 32,
     "metadata": {},
     "output_type": "execute_result"
    }
   ],
   "source": [
    "Assist_2017['correct']"
   ],
   "metadata": {
    "collapsed": false
   }
  },
  {
   "cell_type": "code",
   "execution_count": 125,
   "outputs": [],
   "source": [
    "import sklearn.preprocessing as skPrep\n",
    "\n",
    "encoder = skPrep.OrdinalEncoder()\n",
    "encoder.fit(Assist_2017[['studentId','skill','problemId']])\n",
    "categorized_data = encoder.transform(Assist_2017[['studentId','skill','problemId']])"
   ],
   "metadata": {
    "collapsed": false
   }
  },
  {
   "cell_type": "code",
   "execution_count": 136,
   "outputs": [
    {
     "data": {
      "text/plain": "102"
     },
     "execution_count": 136,
     "metadata": {},
     "output_type": "execute_result"
    }
   ],
   "source": [
    "len(pd.unique(Assist_2017['skill']))"
   ],
   "metadata": {
    "collapsed": false
   }
  },
  {
   "cell_type": "code",
   "execution_count": 127,
   "outputs": [],
   "source": [
    "Assist_2017['studentId'] = categorized_data[:,0]\n",
    "Assist_2017['skill'] = categorized_data[:,1]\n",
    "Assist_2017['problemId'] = categorized_data[:,2]"
   ],
   "metadata": {
    "collapsed": false
   }
  },
  {
   "cell_type": "code",
   "execution_count": 38,
   "outputs": [],
   "source": [
    "std_num = Assist_2017['studentId'].max()\n",
    "stds = [{'log_num':0,'logs':[]}]*(std_num+1)\n",
    "\n",
    "stdId_prec = 0\n",
    "for index,row in Assist_2017.iterrows() :\n",
    "    log = {\n",
    "            'exer_id' : row['problemId'],\n",
    "            'score' : row['correct'],\n",
    "            'knowledge_code' : row['skill']\n",
    "            }\n",
    "    stds[row['studentId']]['logs'].append(log)\n",
    "    stds[row['studentId']]['log_num'] += 1"
   ],
   "metadata": {
    "collapsed": false
   }
  },
  {
   "cell_type": "code",
   "execution_count": 40,
   "outputs": [
    {
     "ename": "KeyboardInterrupt",
     "evalue": "",
     "output_type": "error",
     "traceback": [
      "\u001B[0;31m---------------------------------------------------------------------------\u001B[0m",
      "\u001B[0;31mKeyboardInterrupt\u001B[0m                         Traceback (most recent call last)",
      "Cell \u001B[0;32mIn[40], line 4\u001B[0m\n\u001B[1;32m      1\u001B[0m \u001B[38;5;28;01mimport\u001B[39;00m \u001B[38;5;21;01mjson\u001B[39;00m\n\u001B[1;32m      3\u001B[0m \u001B[38;5;28;01mwith\u001B[39;00m \u001B[38;5;28mopen\u001B[39m( \u001B[38;5;124m\"\u001B[39m\u001B[38;5;124mlog_data_filtered.json\u001B[39m\u001B[38;5;124m\"\u001B[39m , \u001B[38;5;124m\"\u001B[39m\u001B[38;5;124mw\u001B[39m\u001B[38;5;124m\"\u001B[39m ) \u001B[38;5;28;01mas\u001B[39;00m write:\n\u001B[0;32m----> 4\u001B[0m     \u001B[43mjson\u001B[49m\u001B[38;5;241;43m.\u001B[39;49m\u001B[43mdump\u001B[49m\u001B[43m(\u001B[49m\u001B[43mstds\u001B[49m\u001B[43m \u001B[49m\u001B[43m,\u001B[49m\u001B[43m \u001B[49m\u001B[43mwrite\u001B[49m\u001B[43m \u001B[49m\u001B[43m)\u001B[49m\n",
      "File \u001B[0;32m~/anaconda3/envs/conda_NCAT/lib/python3.10/json/__init__.py:179\u001B[0m, in \u001B[0;36mdump\u001B[0;34m(obj, fp, skipkeys, ensure_ascii, check_circular, allow_nan, cls, indent, separators, default, sort_keys, **kw)\u001B[0m\n\u001B[1;32m    173\u001B[0m     iterable \u001B[38;5;241m=\u001B[39m \u001B[38;5;28mcls\u001B[39m(skipkeys\u001B[38;5;241m=\u001B[39mskipkeys, ensure_ascii\u001B[38;5;241m=\u001B[39mensure_ascii,\n\u001B[1;32m    174\u001B[0m         check_circular\u001B[38;5;241m=\u001B[39mcheck_circular, allow_nan\u001B[38;5;241m=\u001B[39mallow_nan, indent\u001B[38;5;241m=\u001B[39mindent,\n\u001B[1;32m    175\u001B[0m         separators\u001B[38;5;241m=\u001B[39mseparators,\n\u001B[1;32m    176\u001B[0m         default\u001B[38;5;241m=\u001B[39mdefault, sort_keys\u001B[38;5;241m=\u001B[39msort_keys, \u001B[38;5;241m*\u001B[39m\u001B[38;5;241m*\u001B[39mkw)\u001B[38;5;241m.\u001B[39miterencode(obj)\n\u001B[1;32m    177\u001B[0m \u001B[38;5;66;03m# could accelerate with writelines in some versions of Python, at\u001B[39;00m\n\u001B[1;32m    178\u001B[0m \u001B[38;5;66;03m# a debuggability cost\u001B[39;00m\n\u001B[0;32m--> 179\u001B[0m \u001B[38;5;28;01mfor\u001B[39;00m chunk \u001B[38;5;129;01min\u001B[39;00m iterable:\n\u001B[1;32m    180\u001B[0m     fp\u001B[38;5;241m.\u001B[39mwrite(chunk)\n",
      "File \u001B[0;32m~/anaconda3/envs/conda_NCAT/lib/python3.10/json/encoder.py:429\u001B[0m, in \u001B[0;36m_make_iterencode.<locals>._iterencode\u001B[0;34m(o, _current_indent_level)\u001B[0m\n\u001B[1;32m    427\u001B[0m     \u001B[38;5;28;01myield\u001B[39;00m _floatstr(o)\n\u001B[1;32m    428\u001B[0m \u001B[38;5;28;01melif\u001B[39;00m \u001B[38;5;28misinstance\u001B[39m(o, (\u001B[38;5;28mlist\u001B[39m, \u001B[38;5;28mtuple\u001B[39m)):\n\u001B[0;32m--> 429\u001B[0m     \u001B[38;5;28;01myield from\u001B[39;00m _iterencode_list(o, _current_indent_level)\n\u001B[1;32m    430\u001B[0m \u001B[38;5;28;01melif\u001B[39;00m \u001B[38;5;28misinstance\u001B[39m(o, \u001B[38;5;28mdict\u001B[39m):\n\u001B[1;32m    431\u001B[0m     \u001B[38;5;28;01myield from\u001B[39;00m _iterencode_dict(o, _current_indent_level)\n",
      "File \u001B[0;32m~/anaconda3/envs/conda_NCAT/lib/python3.10/json/encoder.py:325\u001B[0m, in \u001B[0;36m_make_iterencode.<locals>._iterencode_list\u001B[0;34m(lst, _current_indent_level)\u001B[0m\n\u001B[1;32m    323\u001B[0m         \u001B[38;5;28;01melse\u001B[39;00m:\n\u001B[1;32m    324\u001B[0m             chunks \u001B[38;5;241m=\u001B[39m _iterencode(value, _current_indent_level)\n\u001B[0;32m--> 325\u001B[0m         \u001B[38;5;28;01myield from\u001B[39;00m chunks\n\u001B[1;32m    326\u001B[0m \u001B[38;5;28;01mif\u001B[39;00m newline_indent \u001B[38;5;129;01mis\u001B[39;00m \u001B[38;5;129;01mnot\u001B[39;00m \u001B[38;5;28;01mNone\u001B[39;00m:\n\u001B[1;32m    327\u001B[0m     _current_indent_level \u001B[38;5;241m-\u001B[39m\u001B[38;5;241m=\u001B[39m \u001B[38;5;241m1\u001B[39m\n",
      "File \u001B[0;32m~/anaconda3/envs/conda_NCAT/lib/python3.10/json/encoder.py:405\u001B[0m, in \u001B[0;36m_make_iterencode.<locals>._iterencode_dict\u001B[0;34m(dct, _current_indent_level)\u001B[0m\n\u001B[1;32m    403\u001B[0m         \u001B[38;5;28;01melse\u001B[39;00m:\n\u001B[1;32m    404\u001B[0m             chunks \u001B[38;5;241m=\u001B[39m _iterencode(value, _current_indent_level)\n\u001B[0;32m--> 405\u001B[0m         \u001B[38;5;28;01myield from\u001B[39;00m chunks\n\u001B[1;32m    406\u001B[0m \u001B[38;5;28;01mif\u001B[39;00m newline_indent \u001B[38;5;129;01mis\u001B[39;00m \u001B[38;5;129;01mnot\u001B[39;00m \u001B[38;5;28;01mNone\u001B[39;00m:\n\u001B[1;32m    407\u001B[0m     _current_indent_level \u001B[38;5;241m-\u001B[39m\u001B[38;5;241m=\u001B[39m \u001B[38;5;241m1\u001B[39m\n",
      "File \u001B[0;32m~/anaconda3/envs/conda_NCAT/lib/python3.10/json/encoder.py:325\u001B[0m, in \u001B[0;36m_make_iterencode.<locals>._iterencode_list\u001B[0;34m(lst, _current_indent_level)\u001B[0m\n\u001B[1;32m    323\u001B[0m         \u001B[38;5;28;01melse\u001B[39;00m:\n\u001B[1;32m    324\u001B[0m             chunks \u001B[38;5;241m=\u001B[39m _iterencode(value, _current_indent_level)\n\u001B[0;32m--> 325\u001B[0m         \u001B[38;5;28;01myield from\u001B[39;00m chunks\n\u001B[1;32m    326\u001B[0m \u001B[38;5;28;01mif\u001B[39;00m newline_indent \u001B[38;5;129;01mis\u001B[39;00m \u001B[38;5;129;01mnot\u001B[39;00m \u001B[38;5;28;01mNone\u001B[39;00m:\n\u001B[1;32m    327\u001B[0m     _current_indent_level \u001B[38;5;241m-\u001B[39m\u001B[38;5;241m=\u001B[39m \u001B[38;5;241m1\u001B[39m\n",
      "File \u001B[0;32m~/anaconda3/envs/conda_NCAT/lib/python3.10/json/encoder.py:397\u001B[0m, in \u001B[0;36m_make_iterencode.<locals>._iterencode_dict\u001B[0;34m(dct, _current_indent_level)\u001B[0m\n\u001B[1;32m    394\u001B[0m     \u001B[38;5;28;01myield\u001B[39;00m _intstr(value)\n\u001B[1;32m    395\u001B[0m \u001B[38;5;28;01melif\u001B[39;00m \u001B[38;5;28misinstance\u001B[39m(value, \u001B[38;5;28mfloat\u001B[39m):\n\u001B[1;32m    396\u001B[0m     \u001B[38;5;66;03m# see comment for int/float in _make_iterencode\u001B[39;00m\n\u001B[0;32m--> 397\u001B[0m     \u001B[38;5;28;01myield\u001B[39;00m \u001B[43m_floatstr\u001B[49m\u001B[43m(\u001B[49m\u001B[43mvalue\u001B[49m\u001B[43m)\u001B[49m\n\u001B[1;32m    398\u001B[0m \u001B[38;5;28;01melse\u001B[39;00m:\n\u001B[1;32m    399\u001B[0m     \u001B[38;5;28;01mif\u001B[39;00m \u001B[38;5;28misinstance\u001B[39m(value, (\u001B[38;5;28mlist\u001B[39m, \u001B[38;5;28mtuple\u001B[39m)):\n",
      "File \u001B[0;32m~/anaconda3/envs/conda_NCAT/lib/python3.10/json/encoder.py:236\u001B[0m, in \u001B[0;36mJSONEncoder.iterencode.<locals>.floatstr\u001B[0;34m(o, allow_nan, _repr, _inf, _neginf)\u001B[0m\n\u001B[1;32m    234\u001B[0m     text \u001B[38;5;241m=\u001B[39m \u001B[38;5;124m'\u001B[39m\u001B[38;5;124m-Infinity\u001B[39m\u001B[38;5;124m'\u001B[39m\n\u001B[1;32m    235\u001B[0m \u001B[38;5;28;01melse\u001B[39;00m:\n\u001B[0;32m--> 236\u001B[0m     \u001B[38;5;28;01mreturn\u001B[39;00m \u001B[43m_repr\u001B[49m\u001B[43m(\u001B[49m\u001B[43mo\u001B[49m\u001B[43m)\u001B[49m\n\u001B[1;32m    238\u001B[0m \u001B[38;5;28;01mif\u001B[39;00m \u001B[38;5;129;01mnot\u001B[39;00m allow_nan:\n\u001B[1;32m    239\u001B[0m     \u001B[38;5;28;01mraise\u001B[39;00m \u001B[38;5;167;01mValueError\u001B[39;00m(\n\u001B[1;32m    240\u001B[0m         \u001B[38;5;124m\"\u001B[39m\u001B[38;5;124mOut of range float values are not JSON compliant: \u001B[39m\u001B[38;5;124m\"\u001B[39m \u001B[38;5;241m+\u001B[39m\n\u001B[1;32m    241\u001B[0m         \u001B[38;5;28mrepr\u001B[39m(o))\n",
      "\u001B[0;31mKeyboardInterrupt\u001B[0m: "
     ]
    }
   ],
   "source": [
    "import json\n",
    "\n",
    "with open( \"log_data_filtered.json\" , \"w\" ) as write:\n",
    "    json.dump(stds , write )"
   ],
   "metadata": {
    "collapsed": false
   }
  },
  {
   "cell_type": "code",
   "execution_count": 109,
   "outputs": [
    {
     "ename": "AxisError",
     "evalue": "axis 1 is out of bounds for array of dimension 1",
     "output_type": "error",
     "traceback": [
      "\u001B[0;31m---------------------------------------------------------------------------\u001B[0m",
      "\u001B[0;31mAxisError\u001B[0m                                 Traceback (most recent call last)",
      "Cell \u001B[0;32mIn[109], line 2\u001B[0m\n\u001B[1;32m      1\u001B[0m \u001B[38;5;28;01mimport\u001B[39;00m \u001B[38;5;21;01mnumpy\u001B[39;00m \u001B[38;5;28;01mas\u001B[39;00m \u001B[38;5;21;01mnp\u001B[39;00m\n\u001B[0;32m----> 2\u001B[0m \u001B[43mnp\u001B[49m\u001B[38;5;241;43m.\u001B[39;49m\u001B[43mconcatenate\u001B[49m\u001B[43m(\u001B[49m\u001B[43m(\u001B[49m\u001B[43mencoder\u001B[49m\u001B[38;5;241;43m.\u001B[39;49m\u001B[43mcategories_\u001B[49m\u001B[43m[\u001B[49m\u001B[38;5;241;43m0\u001B[39;49m\u001B[43m]\u001B[49m\u001B[43m,\u001B[49m\u001B[43mencoder\u001B[49m\u001B[38;5;241;43m.\u001B[39;49m\u001B[43mcategories_\u001B[49m\u001B[43m[\u001B[49m\u001B[38;5;241;43m1\u001B[39;49m\u001B[43m]\u001B[49m\u001B[43m,\u001B[49m\u001B[43mencoder\u001B[49m\u001B[38;5;241;43m.\u001B[39;49m\u001B[43mcategories_\u001B[49m\u001B[43m[\u001B[49m\u001B[38;5;241;43m2\u001B[39;49m\u001B[43m]\u001B[49m\u001B[43m)\u001B[49m\u001B[43m,\u001B[49m\u001B[43maxis\u001B[49m\u001B[38;5;241;43m=\u001B[39;49m\u001B[38;5;241;43m1\u001B[39;49m\u001B[43m)\u001B[49m\n",
      "File \u001B[0;32m<__array_function__ internals>:200\u001B[0m, in \u001B[0;36mconcatenate\u001B[0;34m(*args, **kwargs)\u001B[0m\n",
      "\u001B[0;31mAxisError\u001B[0m: axis 1 is out of bounds for array of dimension 1"
     ]
    }
   ],
   "source": [
    "import numpy as np\n",
    "np.concatenate((encoder.categories_[0],encoder.categories_[1],encoder.categories_[2]))"
   ],
   "metadata": {
    "collapsed": false
   }
  },
  {
   "cell_type": "code",
   "execution_count": 124,
   "outputs": [
    {
     "ename": "ValueError",
     "evalue": "could not broadcast input array from shape (942816,2) into shape (942816,)",
     "output_type": "error",
     "traceback": [
      "\u001B[0;31m---------------------------------------------------------------------------\u001B[0m",
      "\u001B[0;31mValueError\u001B[0m                                Traceback (most recent call last)",
      "Cell \u001B[0;32mIn[124], line 1\u001B[0m\n\u001B[0;32m----> 1\u001B[0m \u001B[43mpd\u001B[49m\u001B[38;5;241;43m.\u001B[39;49m\u001B[43munique\u001B[49m\u001B[43m(\u001B[49m\u001B[43mAssist_2017\u001B[49m\u001B[43m[\u001B[49m\u001B[43m[\u001B[49m\u001B[38;5;124;43m'\u001B[39;49m\u001B[38;5;124;43mproblemId\u001B[39;49m\u001B[38;5;124;43m'\u001B[39;49m\u001B[43m,\u001B[49m\u001B[38;5;124;43m'\u001B[39;49m\u001B[38;5;124;43mskill\u001B[39;49m\u001B[38;5;124;43m'\u001B[39;49m\u001B[43m]\u001B[49m\u001B[43m]\u001B[49m\u001B[43m)\u001B[49m\n",
      "File \u001B[0;32m~/anaconda3/envs/conda_NCAT/lib/python3.10/site-packages/pandas/core/algorithms.py:409\u001B[0m, in \u001B[0;36munique\u001B[0;34m(values)\u001B[0m\n\u001B[1;32m    315\u001B[0m \u001B[38;5;28;01mdef\u001B[39;00m \u001B[38;5;21munique\u001B[39m(values):\n\u001B[1;32m    316\u001B[0m     \u001B[38;5;124;03m\"\"\"\u001B[39;00m\n\u001B[1;32m    317\u001B[0m \u001B[38;5;124;03m    Return unique values based on a hash table.\u001B[39;00m\n\u001B[1;32m    318\u001B[0m \n\u001B[0;32m   (...)\u001B[0m\n\u001B[1;32m    407\u001B[0m \u001B[38;5;124;03m    array([('a', 'b'), ('b', 'a'), ('a', 'c')], dtype=object)\u001B[39;00m\n\u001B[1;32m    408\u001B[0m \u001B[38;5;124;03m    \"\"\"\u001B[39;00m\n\u001B[0;32m--> 409\u001B[0m     \u001B[38;5;28;01mreturn\u001B[39;00m \u001B[43munique_with_mask\u001B[49m\u001B[43m(\u001B[49m\u001B[43mvalues\u001B[49m\u001B[43m)\u001B[49m\n",
      "File \u001B[0;32m~/anaconda3/envs/conda_NCAT/lib/python3.10/site-packages/pandas/core/algorithms.py:414\u001B[0m, in \u001B[0;36munique_with_mask\u001B[0;34m(values, mask)\u001B[0m\n\u001B[1;32m    412\u001B[0m \u001B[38;5;28;01mdef\u001B[39;00m \u001B[38;5;21munique_with_mask\u001B[39m(values, mask: npt\u001B[38;5;241m.\u001B[39mNDArray[np\u001B[38;5;241m.\u001B[39mbool_] \u001B[38;5;241m|\u001B[39m \u001B[38;5;28;01mNone\u001B[39;00m \u001B[38;5;241m=\u001B[39m \u001B[38;5;28;01mNone\u001B[39;00m):\n\u001B[1;32m    413\u001B[0m     \u001B[38;5;124;03m\"\"\"See algorithms.unique for docs. Takes a mask for masked arrays.\"\"\"\u001B[39;00m\n\u001B[0;32m--> 414\u001B[0m     values \u001B[38;5;241m=\u001B[39m \u001B[43m_ensure_arraylike\u001B[49m\u001B[43m(\u001B[49m\u001B[43mvalues\u001B[49m\u001B[43m)\u001B[49m\n\u001B[1;32m    416\u001B[0m     \u001B[38;5;28;01mif\u001B[39;00m is_extension_array_dtype(values\u001B[38;5;241m.\u001B[39mdtype):\n\u001B[1;32m    417\u001B[0m         \u001B[38;5;66;03m# Dispatch to extension dtype's unique.\u001B[39;00m\n\u001B[1;32m    418\u001B[0m         \u001B[38;5;28;01mreturn\u001B[39;00m values\u001B[38;5;241m.\u001B[39munique()\n",
      "File \u001B[0;32m~/anaconda3/envs/conda_NCAT/lib/python3.10/site-packages/pandas/core/algorithms.py:245\u001B[0m, in \u001B[0;36m_ensure_arraylike\u001B[0;34m(values)\u001B[0m\n\u001B[1;32m    243\u001B[0m     \u001B[38;5;28;01mif\u001B[39;00m \u001B[38;5;28misinstance\u001B[39m(values, \u001B[38;5;28mtuple\u001B[39m):\n\u001B[1;32m    244\u001B[0m         values \u001B[38;5;241m=\u001B[39m \u001B[38;5;28mlist\u001B[39m(values)\n\u001B[0;32m--> 245\u001B[0m     values \u001B[38;5;241m=\u001B[39m \u001B[43mconstruct_1d_object_array_from_listlike\u001B[49m\u001B[43m(\u001B[49m\u001B[43mvalues\u001B[49m\u001B[43m)\u001B[49m\n\u001B[1;32m    246\u001B[0m \u001B[38;5;28;01melse\u001B[39;00m:\n\u001B[1;32m    247\u001B[0m     values \u001B[38;5;241m=\u001B[39m np\u001B[38;5;241m.\u001B[39masarray(values)\n",
      "File \u001B[0;32m~/anaconda3/envs/conda_NCAT/lib/python3.10/site-packages/pandas/core/dtypes/cast.py:1784\u001B[0m, in \u001B[0;36mconstruct_1d_object_array_from_listlike\u001B[0;34m(values)\u001B[0m\n\u001B[1;32m   1781\u001B[0m \u001B[38;5;66;03m# numpy will try to interpret nested lists as further dimensions, hence\u001B[39;00m\n\u001B[1;32m   1782\u001B[0m \u001B[38;5;66;03m# making a 1D array that contains list-likes is a bit tricky:\u001B[39;00m\n\u001B[1;32m   1783\u001B[0m result \u001B[38;5;241m=\u001B[39m np\u001B[38;5;241m.\u001B[39mempty(\u001B[38;5;28mlen\u001B[39m(values), dtype\u001B[38;5;241m=\u001B[39m\u001B[38;5;124m\"\u001B[39m\u001B[38;5;124mobject\u001B[39m\u001B[38;5;124m\"\u001B[39m)\n\u001B[0;32m-> 1784\u001B[0m result[:] \u001B[38;5;241m=\u001B[39m values\n\u001B[1;32m   1785\u001B[0m \u001B[38;5;28;01mreturn\u001B[39;00m result\n",
      "\u001B[0;31mValueError\u001B[0m: could not broadcast input array from shape (942816,2) into shape (942816,)"
     ]
    }
   ],
   "source": [
    "pd.unique(Assist_2017[['problemId','skill']])\n"
   ],
   "metadata": {
    "collapsed": false
   }
  },
  {
   "cell_type": "code",
   "execution_count": 128,
   "outputs": [
    {
     "data": {
      "text/plain": "        studentId  MiddleSchoolId InferredGender SY ASSISTments Usage  \\\n0             0.0               2           Male            2004-2005   \n1             0.0               2           Male            2004-2005   \n2             0.0               2           Male            2004-2005   \n3             0.0               2           Male            2004-2005   \n4             0.0               2           Male            2004-2005   \n...           ...             ...            ...                  ...   \n942811     1708.0               1            NaN            2005-2006   \n942812     1708.0               1            NaN            2005-2006   \n942813     1708.0               1            NaN            2005-2006   \n942814     1708.0               1            NaN            2005-2006   \n942815     1708.0               1            NaN            2005-2006   \n\n         AveKnow  AveCarelessness  AveCorrect  NumActions  AveResBored  \\\n0       0.352416         0.183276    0.483902        1056     0.208389   \n1       0.352416         0.183276    0.483902        1056     0.208389   \n2       0.352416         0.183276    0.483902        1056     0.208389   \n3       0.352416         0.183276    0.483902        1056     0.208389   \n4       0.352416         0.183276    0.483902        1056     0.208389   \n...          ...              ...         ...         ...          ...   \n942811  0.210902         0.094888    0.456522         276     0.271812   \n942812  0.210902         0.094888    0.456522         276     0.271812   \n942813  0.210902         0.094888    0.456522         276     0.271812   \n942814  0.210902         0.094888    0.456522         276     0.271812   \n942815  0.210902         0.094888    0.456522         276     0.271812   \n\n        AveResEngcon  ...  RES_CONFUSED  RES_FRUSTRATED  RES_OFFTASK  \\\n0           0.679126  ...      0.000000        0.000000     0.785585   \n1           0.679126  ...      0.887452        0.000000     0.468252   \n2           0.679126  ...      0.887452        0.000000     0.468252   \n3           0.679126  ...      0.000000        0.000000     0.108417   \n4           0.679126  ...      0.000000        0.000000     0.108417   \n...              ...  ...           ...             ...          ...   \n942811      0.611678  ...      0.000000        0.000000     0.122595   \n942812      0.611678  ...      0.633474        0.000000     0.122595   \n942813      0.611678  ...      0.000000        0.000000     0.122595   \n942814      0.611678  ...      0.000000        0.000000     0.122595   \n942815      0.611678  ...      0.000000        0.009561     0.122595   \n\n        RES_GAMING      Ln-1        Ln  MCAS Enrolled  Selective  isSTEM  \n0         0.000264      0.13   0.06119    45        0          0     NaN  \n1         0.001483   0.06119   0.21351    45        0          0     NaN  \n2         0.001483     0.116  0.033306    45        0          0     NaN  \n3         0.010665     0.116  0.033306    45        0          0     NaN  \n4         0.010665  0.033306  0.118386    45        0          0     NaN  \n...            ...       ...       ...   ...      ...        ...     ...  \n942811    0.000092  0.054517  0.053783    28        1          0     NaN  \n942812    0.002815  0.053783  0.053673    28        1          0     NaN  \n942813    0.101184  0.053783  0.053673    28        1          0     NaN  \n942814    0.101184  0.053783  0.053673    28        1          0     NaN  \n942815    0.010665  0.780148  0.918159    28        1          0     NaN  \n\n[942816 rows x 82 columns]",
      "text/html": "<div>\n<style scoped>\n    .dataframe tbody tr th:only-of-type {\n        vertical-align: middle;\n    }\n\n    .dataframe tbody tr th {\n        vertical-align: top;\n    }\n\n    .dataframe thead th {\n        text-align: right;\n    }\n</style>\n<table border=\"1\" class=\"dataframe\">\n  <thead>\n    <tr style=\"text-align: right;\">\n      <th></th>\n      <th>studentId</th>\n      <th>MiddleSchoolId</th>\n      <th>InferredGender</th>\n      <th>SY ASSISTments Usage</th>\n      <th>AveKnow</th>\n      <th>AveCarelessness</th>\n      <th>AveCorrect</th>\n      <th>NumActions</th>\n      <th>AveResBored</th>\n      <th>AveResEngcon</th>\n      <th>...</th>\n      <th>RES_CONFUSED</th>\n      <th>RES_FRUSTRATED</th>\n      <th>RES_OFFTASK</th>\n      <th>RES_GAMING</th>\n      <th>Ln-1</th>\n      <th>Ln</th>\n      <th>MCAS</th>\n      <th>Enrolled</th>\n      <th>Selective</th>\n      <th>isSTEM</th>\n    </tr>\n  </thead>\n  <tbody>\n    <tr>\n      <th>0</th>\n      <td>0.0</td>\n      <td>2</td>\n      <td>Male</td>\n      <td>2004-2005</td>\n      <td>0.352416</td>\n      <td>0.183276</td>\n      <td>0.483902</td>\n      <td>1056</td>\n      <td>0.208389</td>\n      <td>0.679126</td>\n      <td>...</td>\n      <td>0.000000</td>\n      <td>0.000000</td>\n      <td>0.785585</td>\n      <td>0.000264</td>\n      <td>0.13</td>\n      <td>0.06119</td>\n      <td>45</td>\n      <td>0</td>\n      <td>0</td>\n      <td>NaN</td>\n    </tr>\n    <tr>\n      <th>1</th>\n      <td>0.0</td>\n      <td>2</td>\n      <td>Male</td>\n      <td>2004-2005</td>\n      <td>0.352416</td>\n      <td>0.183276</td>\n      <td>0.483902</td>\n      <td>1056</td>\n      <td>0.208389</td>\n      <td>0.679126</td>\n      <td>...</td>\n      <td>0.887452</td>\n      <td>0.000000</td>\n      <td>0.468252</td>\n      <td>0.001483</td>\n      <td>0.06119</td>\n      <td>0.21351</td>\n      <td>45</td>\n      <td>0</td>\n      <td>0</td>\n      <td>NaN</td>\n    </tr>\n    <tr>\n      <th>2</th>\n      <td>0.0</td>\n      <td>2</td>\n      <td>Male</td>\n      <td>2004-2005</td>\n      <td>0.352416</td>\n      <td>0.183276</td>\n      <td>0.483902</td>\n      <td>1056</td>\n      <td>0.208389</td>\n      <td>0.679126</td>\n      <td>...</td>\n      <td>0.887452</td>\n      <td>0.000000</td>\n      <td>0.468252</td>\n      <td>0.001483</td>\n      <td>0.116</td>\n      <td>0.033306</td>\n      <td>45</td>\n      <td>0</td>\n      <td>0</td>\n      <td>NaN</td>\n    </tr>\n    <tr>\n      <th>3</th>\n      <td>0.0</td>\n      <td>2</td>\n      <td>Male</td>\n      <td>2004-2005</td>\n      <td>0.352416</td>\n      <td>0.183276</td>\n      <td>0.483902</td>\n      <td>1056</td>\n      <td>0.208389</td>\n      <td>0.679126</td>\n      <td>...</td>\n      <td>0.000000</td>\n      <td>0.000000</td>\n      <td>0.108417</td>\n      <td>0.010665</td>\n      <td>0.116</td>\n      <td>0.033306</td>\n      <td>45</td>\n      <td>0</td>\n      <td>0</td>\n      <td>NaN</td>\n    </tr>\n    <tr>\n      <th>4</th>\n      <td>0.0</td>\n      <td>2</td>\n      <td>Male</td>\n      <td>2004-2005</td>\n      <td>0.352416</td>\n      <td>0.183276</td>\n      <td>0.483902</td>\n      <td>1056</td>\n      <td>0.208389</td>\n      <td>0.679126</td>\n      <td>...</td>\n      <td>0.000000</td>\n      <td>0.000000</td>\n      <td>0.108417</td>\n      <td>0.010665</td>\n      <td>0.033306</td>\n      <td>0.118386</td>\n      <td>45</td>\n      <td>0</td>\n      <td>0</td>\n      <td>NaN</td>\n    </tr>\n    <tr>\n      <th>...</th>\n      <td>...</td>\n      <td>...</td>\n      <td>...</td>\n      <td>...</td>\n      <td>...</td>\n      <td>...</td>\n      <td>...</td>\n      <td>...</td>\n      <td>...</td>\n      <td>...</td>\n      <td>...</td>\n      <td>...</td>\n      <td>...</td>\n      <td>...</td>\n      <td>...</td>\n      <td>...</td>\n      <td>...</td>\n      <td>...</td>\n      <td>...</td>\n      <td>...</td>\n      <td>...</td>\n    </tr>\n    <tr>\n      <th>942811</th>\n      <td>1708.0</td>\n      <td>1</td>\n      <td>NaN</td>\n      <td>2005-2006</td>\n      <td>0.210902</td>\n      <td>0.094888</td>\n      <td>0.456522</td>\n      <td>276</td>\n      <td>0.271812</td>\n      <td>0.611678</td>\n      <td>...</td>\n      <td>0.000000</td>\n      <td>0.000000</td>\n      <td>0.122595</td>\n      <td>0.000092</td>\n      <td>0.054517</td>\n      <td>0.053783</td>\n      <td>28</td>\n      <td>1</td>\n      <td>0</td>\n      <td>NaN</td>\n    </tr>\n    <tr>\n      <th>942812</th>\n      <td>1708.0</td>\n      <td>1</td>\n      <td>NaN</td>\n      <td>2005-2006</td>\n      <td>0.210902</td>\n      <td>0.094888</td>\n      <td>0.456522</td>\n      <td>276</td>\n      <td>0.271812</td>\n      <td>0.611678</td>\n      <td>...</td>\n      <td>0.633474</td>\n      <td>0.000000</td>\n      <td>0.122595</td>\n      <td>0.002815</td>\n      <td>0.053783</td>\n      <td>0.053673</td>\n      <td>28</td>\n      <td>1</td>\n      <td>0</td>\n      <td>NaN</td>\n    </tr>\n    <tr>\n      <th>942813</th>\n      <td>1708.0</td>\n      <td>1</td>\n      <td>NaN</td>\n      <td>2005-2006</td>\n      <td>0.210902</td>\n      <td>0.094888</td>\n      <td>0.456522</td>\n      <td>276</td>\n      <td>0.271812</td>\n      <td>0.611678</td>\n      <td>...</td>\n      <td>0.000000</td>\n      <td>0.000000</td>\n      <td>0.122595</td>\n      <td>0.101184</td>\n      <td>0.053783</td>\n      <td>0.053673</td>\n      <td>28</td>\n      <td>1</td>\n      <td>0</td>\n      <td>NaN</td>\n    </tr>\n    <tr>\n      <th>942814</th>\n      <td>1708.0</td>\n      <td>1</td>\n      <td>NaN</td>\n      <td>2005-2006</td>\n      <td>0.210902</td>\n      <td>0.094888</td>\n      <td>0.456522</td>\n      <td>276</td>\n      <td>0.271812</td>\n      <td>0.611678</td>\n      <td>...</td>\n      <td>0.000000</td>\n      <td>0.000000</td>\n      <td>0.122595</td>\n      <td>0.101184</td>\n      <td>0.053783</td>\n      <td>0.053673</td>\n      <td>28</td>\n      <td>1</td>\n      <td>0</td>\n      <td>NaN</td>\n    </tr>\n    <tr>\n      <th>942815</th>\n      <td>1708.0</td>\n      <td>1</td>\n      <td>NaN</td>\n      <td>2005-2006</td>\n      <td>0.210902</td>\n      <td>0.094888</td>\n      <td>0.456522</td>\n      <td>276</td>\n      <td>0.271812</td>\n      <td>0.611678</td>\n      <td>...</td>\n      <td>0.000000</td>\n      <td>0.009561</td>\n      <td>0.122595</td>\n      <td>0.010665</td>\n      <td>0.780148</td>\n      <td>0.918159</td>\n      <td>28</td>\n      <td>1</td>\n      <td>0</td>\n      <td>NaN</td>\n    </tr>\n  </tbody>\n</table>\n<p>942816 rows × 82 columns</p>\n</div>"
     },
     "execution_count": 128,
     "metadata": {},
     "output_type": "execute_result"
    }
   ],
   "source": [
    "Assist_2017"
   ],
   "metadata": {
    "collapsed": false
   }
  },
  {
   "cell_type": "code",
   "execution_count": 88,
   "outputs": [],
   "source": [
    "\n",
    "import numpy as np\n",
    "T = 500\n",
    "s = Assist_2017['studentId'].value_counts()\n",
    "s2 = s[s > 2*T]\n",
    "b = Assist_2017[Assist_2017['studentId'].isin(s2.index)]"
   ],
   "metadata": {
    "collapsed": false
   }
  },
  {
   "cell_type": "code",
   "execution_count": 95,
   "outputs": [
    {
     "data": {
      "text/plain": "      studentId  MiddleSchoolId InferredGender SY ASSISTments Usage   AveKnow  \\\n2467         64               4           Male            2004-2005  0.157938   \n2468         64               4           Male            2004-2005  0.157938   \n2469         64               4           Male            2004-2005  0.157938   \n2470         64               4           Male            2004-2005  0.157938   \n2471         64               4           Male            2004-2005  0.157938   \n...         ...             ...            ...                  ...       ...   \n3881         64               4           Male            2004-2005  0.157938   \n3882         64               4           Male            2004-2005  0.157938   \n3883         64               4           Male            2004-2005  0.157938   \n3884         64               4           Male            2004-2005  0.157938   \n3885         64               4           Male            2004-2005  0.157938   \n\n      AveCarelessness  AveCorrect  NumActions  AveResBored  AveResEngcon  ...  \\\n2467         0.098357    0.334038        1419     0.198394      0.670062  ...   \n2468         0.098357    0.334038        1419     0.198394      0.670062  ...   \n2469         0.098357    0.334038        1419     0.198394      0.670062  ...   \n2470         0.098357    0.334038        1419     0.198394      0.670062  ...   \n2471         0.098357    0.334038        1419     0.198394      0.670062  ...   \n...               ...         ...         ...          ...           ...  ...   \n3881         0.098357    0.334038        1419     0.198394      0.670062  ...   \n3882         0.098357    0.334038        1419     0.198394      0.670062  ...   \n3883         0.098357    0.334038        1419     0.198394      0.670062  ...   \n3884         0.098357    0.334038        1419     0.198394      0.670062  ...   \n3885         0.098357    0.334038        1419     0.198394      0.670062  ...   \n\n      RES_CONFUSED  RES_FRUSTRATED  RES_OFFTASK  RES_GAMING      Ln-1  \\\n2467      0.000000        0.000000     0.785585    0.000264     0.081   \n2468      0.000000        0.586454     0.785585    0.000018  0.057396   \n2469      0.000000        0.000000     0.785585    0.000035  0.057396   \n2470      0.000000        0.000000     0.785585    0.000085  0.057396   \n2471      0.000000        0.000000     0.785585    0.000322  0.057396   \n...            ...             ...          ...         ...       ...   \n3881      0.000000        0.000000     0.122595    0.000128  0.045374   \n3882      0.633474        0.659720     0.122595    0.005797  0.981847   \n3883      0.000000        0.009561     0.048295    0.005797  0.981847   \n3884      0.000000        0.009561     0.048295    0.005797   0.29045   \n3885      0.000000        0.009561     0.048295    0.005797   0.29045   \n\n            Ln  MCAS Enrolled  Selective  isSTEM  \n2467  0.057396    29        0          0     NaN  \n2468  0.053903    29        0          0     NaN  \n2469  0.053903    29        0          0     NaN  \n2470  0.053903    29        0          0     NaN  \n2471  0.053903    29        0          0     NaN  \n...        ...   ...      ...        ...     ...  \n3881  0.030348    29        0          0     NaN  \n3882  0.880174    29        0          0     NaN  \n3883  0.880174    29        0          0     NaN  \n3884  0.077677    29        0          0     NaN  \n3885  0.077677    29        0          0     NaN  \n\n[1419 rows x 82 columns]",
      "text/html": "<div>\n<style scoped>\n    .dataframe tbody tr th:only-of-type {\n        vertical-align: middle;\n    }\n\n    .dataframe tbody tr th {\n        vertical-align: top;\n    }\n\n    .dataframe thead th {\n        text-align: right;\n    }\n</style>\n<table border=\"1\" class=\"dataframe\">\n  <thead>\n    <tr style=\"text-align: right;\">\n      <th></th>\n      <th>studentId</th>\n      <th>MiddleSchoolId</th>\n      <th>InferredGender</th>\n      <th>SY ASSISTments Usage</th>\n      <th>AveKnow</th>\n      <th>AveCarelessness</th>\n      <th>AveCorrect</th>\n      <th>NumActions</th>\n      <th>AveResBored</th>\n      <th>AveResEngcon</th>\n      <th>...</th>\n      <th>RES_CONFUSED</th>\n      <th>RES_FRUSTRATED</th>\n      <th>RES_OFFTASK</th>\n      <th>RES_GAMING</th>\n      <th>Ln-1</th>\n      <th>Ln</th>\n      <th>MCAS</th>\n      <th>Enrolled</th>\n      <th>Selective</th>\n      <th>isSTEM</th>\n    </tr>\n  </thead>\n  <tbody>\n    <tr>\n      <th>2467</th>\n      <td>64</td>\n      <td>4</td>\n      <td>Male</td>\n      <td>2004-2005</td>\n      <td>0.157938</td>\n      <td>0.098357</td>\n      <td>0.334038</td>\n      <td>1419</td>\n      <td>0.198394</td>\n      <td>0.670062</td>\n      <td>...</td>\n      <td>0.000000</td>\n      <td>0.000000</td>\n      <td>0.785585</td>\n      <td>0.000264</td>\n      <td>0.081</td>\n      <td>0.057396</td>\n      <td>29</td>\n      <td>0</td>\n      <td>0</td>\n      <td>NaN</td>\n    </tr>\n    <tr>\n      <th>2468</th>\n      <td>64</td>\n      <td>4</td>\n      <td>Male</td>\n      <td>2004-2005</td>\n      <td>0.157938</td>\n      <td>0.098357</td>\n      <td>0.334038</td>\n      <td>1419</td>\n      <td>0.198394</td>\n      <td>0.670062</td>\n      <td>...</td>\n      <td>0.000000</td>\n      <td>0.586454</td>\n      <td>0.785585</td>\n      <td>0.000018</td>\n      <td>0.057396</td>\n      <td>0.053903</td>\n      <td>29</td>\n      <td>0</td>\n      <td>0</td>\n      <td>NaN</td>\n    </tr>\n    <tr>\n      <th>2469</th>\n      <td>64</td>\n      <td>4</td>\n      <td>Male</td>\n      <td>2004-2005</td>\n      <td>0.157938</td>\n      <td>0.098357</td>\n      <td>0.334038</td>\n      <td>1419</td>\n      <td>0.198394</td>\n      <td>0.670062</td>\n      <td>...</td>\n      <td>0.000000</td>\n      <td>0.000000</td>\n      <td>0.785585</td>\n      <td>0.000035</td>\n      <td>0.057396</td>\n      <td>0.053903</td>\n      <td>29</td>\n      <td>0</td>\n      <td>0</td>\n      <td>NaN</td>\n    </tr>\n    <tr>\n      <th>2470</th>\n      <td>64</td>\n      <td>4</td>\n      <td>Male</td>\n      <td>2004-2005</td>\n      <td>0.157938</td>\n      <td>0.098357</td>\n      <td>0.334038</td>\n      <td>1419</td>\n      <td>0.198394</td>\n      <td>0.670062</td>\n      <td>...</td>\n      <td>0.000000</td>\n      <td>0.000000</td>\n      <td>0.785585</td>\n      <td>0.000085</td>\n      <td>0.057396</td>\n      <td>0.053903</td>\n      <td>29</td>\n      <td>0</td>\n      <td>0</td>\n      <td>NaN</td>\n    </tr>\n    <tr>\n      <th>2471</th>\n      <td>64</td>\n      <td>4</td>\n      <td>Male</td>\n      <td>2004-2005</td>\n      <td>0.157938</td>\n      <td>0.098357</td>\n      <td>0.334038</td>\n      <td>1419</td>\n      <td>0.198394</td>\n      <td>0.670062</td>\n      <td>...</td>\n      <td>0.000000</td>\n      <td>0.000000</td>\n      <td>0.785585</td>\n      <td>0.000322</td>\n      <td>0.057396</td>\n      <td>0.053903</td>\n      <td>29</td>\n      <td>0</td>\n      <td>0</td>\n      <td>NaN</td>\n    </tr>\n    <tr>\n      <th>...</th>\n      <td>...</td>\n      <td>...</td>\n      <td>...</td>\n      <td>...</td>\n      <td>...</td>\n      <td>...</td>\n      <td>...</td>\n      <td>...</td>\n      <td>...</td>\n      <td>...</td>\n      <td>...</td>\n      <td>...</td>\n      <td>...</td>\n      <td>...</td>\n      <td>...</td>\n      <td>...</td>\n      <td>...</td>\n      <td>...</td>\n      <td>...</td>\n      <td>...</td>\n      <td>...</td>\n    </tr>\n    <tr>\n      <th>3881</th>\n      <td>64</td>\n      <td>4</td>\n      <td>Male</td>\n      <td>2004-2005</td>\n      <td>0.157938</td>\n      <td>0.098357</td>\n      <td>0.334038</td>\n      <td>1419</td>\n      <td>0.198394</td>\n      <td>0.670062</td>\n      <td>...</td>\n      <td>0.000000</td>\n      <td>0.000000</td>\n      <td>0.122595</td>\n      <td>0.000128</td>\n      <td>0.045374</td>\n      <td>0.030348</td>\n      <td>29</td>\n      <td>0</td>\n      <td>0</td>\n      <td>NaN</td>\n    </tr>\n    <tr>\n      <th>3882</th>\n      <td>64</td>\n      <td>4</td>\n      <td>Male</td>\n      <td>2004-2005</td>\n      <td>0.157938</td>\n      <td>0.098357</td>\n      <td>0.334038</td>\n      <td>1419</td>\n      <td>0.198394</td>\n      <td>0.670062</td>\n      <td>...</td>\n      <td>0.633474</td>\n      <td>0.659720</td>\n      <td>0.122595</td>\n      <td>0.005797</td>\n      <td>0.981847</td>\n      <td>0.880174</td>\n      <td>29</td>\n      <td>0</td>\n      <td>0</td>\n      <td>NaN</td>\n    </tr>\n    <tr>\n      <th>3883</th>\n      <td>64</td>\n      <td>4</td>\n      <td>Male</td>\n      <td>2004-2005</td>\n      <td>0.157938</td>\n      <td>0.098357</td>\n      <td>0.334038</td>\n      <td>1419</td>\n      <td>0.198394</td>\n      <td>0.670062</td>\n      <td>...</td>\n      <td>0.000000</td>\n      <td>0.009561</td>\n      <td>0.048295</td>\n      <td>0.005797</td>\n      <td>0.981847</td>\n      <td>0.880174</td>\n      <td>29</td>\n      <td>0</td>\n      <td>0</td>\n      <td>NaN</td>\n    </tr>\n    <tr>\n      <th>3884</th>\n      <td>64</td>\n      <td>4</td>\n      <td>Male</td>\n      <td>2004-2005</td>\n      <td>0.157938</td>\n      <td>0.098357</td>\n      <td>0.334038</td>\n      <td>1419</td>\n      <td>0.198394</td>\n      <td>0.670062</td>\n      <td>...</td>\n      <td>0.000000</td>\n      <td>0.009561</td>\n      <td>0.048295</td>\n      <td>0.005797</td>\n      <td>0.29045</td>\n      <td>0.077677</td>\n      <td>29</td>\n      <td>0</td>\n      <td>0</td>\n      <td>NaN</td>\n    </tr>\n    <tr>\n      <th>3885</th>\n      <td>64</td>\n      <td>4</td>\n      <td>Male</td>\n      <td>2004-2005</td>\n      <td>0.157938</td>\n      <td>0.098357</td>\n      <td>0.334038</td>\n      <td>1419</td>\n      <td>0.198394</td>\n      <td>0.670062</td>\n      <td>...</td>\n      <td>0.000000</td>\n      <td>0.009561</td>\n      <td>0.048295</td>\n      <td>0.005797</td>\n      <td>0.29045</td>\n      <td>0.077677</td>\n      <td>29</td>\n      <td>0</td>\n      <td>0</td>\n      <td>NaN</td>\n    </tr>\n  </tbody>\n</table>\n<p>1419 rows × 82 columns</p>\n</div>"
     },
     "execution_count": 95,
     "metadata": {},
     "output_type": "execute_result"
    }
   ],
   "source": [
    "b[b['studentId'] == 64]"
   ],
   "metadata": {
    "collapsed": false
   }
  },
  {
   "cell_type": "code",
   "execution_count": 75,
   "outputs": [
    {
     "data": {
      "text/plain": "array([1483, 3609, 1079, ..., 1667, 1868, 5163])"
     },
     "execution_count": 75,
     "metadata": {},
     "output_type": "execute_result"
    }
   ],
   "source": [
    "np.array(s2.index)"
   ],
   "metadata": {
    "collapsed": false
   }
  },
  {
   "cell_type": "code",
   "execution_count": 72,
   "outputs": [
    {
     "data": {
      "text/plain": "1483    3057.0\n3609    2742.0\n1079    2593.0\n954     2496.0\n5471    2375.0\n         ...  \n7296       NaN\n6514       NaN\n1667       NaN\n1868       NaN\n5163       NaN\nName: studentId, Length: 1709, dtype: float64"
     },
     "execution_count": 72,
     "metadata": {},
     "output_type": "execute_result"
    }
   ],
   "source": [
    "s2"
   ],
   "metadata": {
    "collapsed": false
   }
  },
  {
   "cell_type": "code",
   "execution_count": 76,
   "outputs": [
    {
     "data": {
      "text/plain": "1483    3057\n3609    2742\n1079    2593\n954     2496\n5471    2375\n        ... \n7296      20\n6514      19\n1667      12\n1868      12\n5163       2\nName: studentId, Length: 1709, dtype: int64"
     },
     "execution_count": 76,
     "metadata": {},
     "output_type": "execute_result"
    }
   ],
   "source": [
    "s"
   ],
   "metadata": {
    "collapsed": false
   }
  },
  {
   "cell_type": "code",
   "execution_count": null,
   "outputs": [],
   "source": [],
   "metadata": {
    "collapsed": false
   }
  }
 ],
 "metadata": {
  "kernelspec": {
   "display_name": "Python 3",
   "language": "python",
   "name": "python3"
  },
  "language_info": {
   "codemirror_mode": {
    "name": "ipython",
    "version": 2
   },
   "file_extension": ".py",
   "mimetype": "text/x-python",
   "name": "python",
   "nbconvert_exporter": "python",
   "pygments_lexer": "ipython2",
   "version": "2.7.6"
  }
 },
 "nbformat": 4,
 "nbformat_minor": 0
}
